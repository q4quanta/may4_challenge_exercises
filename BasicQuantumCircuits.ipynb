{
 "cells": [
  {
   "cell_type": "markdown",
   "metadata": {},
   "source": [
    "## Exercise I:  Basic Operations on Qubits and Measurements\n",
    "\n",
    "### Writing down single-qubit states\n",
    "Let us start by looking at a single qubit. The main difference between a classical bit, which can take the values 0 and 1 only, is that a quantum bit, or **qubit**, can be in the states $\\vert0\\rangle$, $\\vert1\\rangle$, as well as a linear combination of these two states. This feature is known as superposition, and allows us to write the most general state of a qubit as: \n",
    "\n",
    "$$\\vert\\psi\\rangle = \\sqrt{1-p}\\vert0\\rangle + e^{i \\phi} \\sqrt{p}  \\vert1\\rangle$$\n",
    "\n",
    "If we were to measure the state of this qubit, we would find the result $1$ with probability $p$, and the result $0$ with probability $1-p$. As you can see, the total probability is $1$, meaning that we will indeed measure either $0$ or $1$, and no other outcomes exists.\n",
    "\n",
    "In addition to $p$, you might have noticed another parameter above. The variable $\\phi$ indicates the relative quantum phase between the two states $\\vert0\\rangle$ and $\\vert1\\rangle$. As we will discover later, this relative phase is quite important. For now, it suffices to note that the quantum phase is what enables interference between quantum states, resulting in our ability to write quantum algorithms for solving specific tasks.\n",
    "\n",
    "If you are interested in learning more, we refer you to [the section in the Qiskit textbook on representations of single-qubit states](https://qiskit.org/textbook/ch-states/representing-qubit-states.html).\n",
    "\n",
    "### Visualizing quantum states\n",
    "We visualize quantum states throughout this exercise using what is known as a `qsphere`. Here is how the `qsphere` looks for the states $\\vert0\\rangle$ and $\\vert1\\rangle$, respectively. Note that the top-most part of the sphere represents the state $\\vert0\\rangle$, while the bottom represents $\\vert1\\rangle$.\n",
    "\n",
    "<img src=\"img/qsphere01.png\" alt=\"qsphere with states 0 and 1\" style=\"width: 400px;\"/>\n",
    "\n",
    "It should be no surprise that the superposition state with quantum phase $\\phi = 0$ and probability $p = 1/2$ (meaning an equal likelihood of measuring both 0 and 1) is shown on the `qsphere` with two points. However, note also that the size of the circles at the two points is smaller than when we had simply $\\vert0\\rangle$ and $\\vert1\\rangle$ above. This is because the size of the circles is proportional to the probability of measuring each one, which is now reduced by half.\n",
    "\n",
    "<img src=\"img/qsphereplus.png\" alt=\"qsphere with superposition 1\" style=\"width: 200px;\"/>\n",
    "\n",
    "In the case of superposition states, where the quantum phase is non-zero, the qsphere allows us to visualize that phase by changing the color of the respective blob. For example, the state with $\\phi = 90^\\circ$ (degrees) and probability $p = 1/2$ is shown in the `qsphere` below. \n",
    "\n",
    "<img src=\"img/qspherey.png\" alt=\"qsphere with superposition 2\" style=\"width: 200px;\"/>\n",
    "\n",
    "### Manipulating qubits\n",
    "Qubits are manipulated by applying quantum gates. Let's go through an overview of the different gates that we will consider in the following exercises.\n",
    "\n",
    "First, let's describe how we can change the value of $p$ for our general quantum state. To do this, we will use two gates:\n",
    "\n",
    "1. **$X$-gate**: This gate flips between the two states $\\vert0\\rangle$ and $\\vert1\\rangle$. This operation is the same as the classical NOT gate. As a result, the $X$-gate is sometimes referred to as a bit flip or NOT gate. Mathematically, the $X$ gate changes $p$ to $1-p$, so in particular from 0 to 1, and vice versa.\n",
    "\n",
    "2. **$H$-gate**: This gate allows us to go from the state $\\vert0\\rangle$  to the state $\\frac{1}{\\sqrt{2}}\\left(\\vert0\\rangle + \\vert1\\rangle\\right)$. This state is also known as the $\\vert+\\rangle$. Mathematically, this means going from $p=0, \\phi=0$ to  $p=1/2, \\phi=0$.  As the final state of the qubit is a superposition of $\\vert0\\rangle$ and $\\vert1\\rangle$, the Hadamard gate represents a true quantum operation.\n",
    "\n",
    "Notice that both gates changed the value of $p$, but not $\\phi$. Fortunately for us, it's quite easy to visualize the action of these gates by looking at the figure below.\n",
    "\n",
    "<img src=\"img/quantumgates.png\" alt=\"quantum gates\" style=\"width: 400px;\"/>\n",
    "\n",
    "Once we have the state $\\vert+\\rangle$, we can then change the quantum phase by applying several other gates. For example, an $S$ gate adds a phase of $90$ degrees to $\\phi$, while the $Z$ gate adds a phase of $180$ degrees to $\\phi$. To subtract a phase of $90$ degrees, we can apply the $S^\\dagger$ gate, which is read as S-dagger, and commonly written as `sdg`. Finally, there is a $Y$ gate which applies a sequence of $Z$ and $X$ gates.\n",
    "\n",
    "You can experiment with the gates $X$, $Y$, $Z$, $H$, $S$ and $S^\\dagger$ to become accustomed to the different operations and how they affect the state of a qubit. To do so, you can run *Cell 2* which starts our circuit widget. After running the cell, choose a gate to apply to a qubit, and then choose the qubit (in the first examples, the only qubit to choose is qubit 0).  Watch how the corresponding state changes with each gate, as well as the description of that state. It will also provide you with the code that creates the corresponding quantum circuit in Qiskit below the qsphere.\n",
    "\n",
    "If you want to learn more about describing quantum states, Pauli operators, and other single-qubit gates, see chapter 1 of our textbook: https://qiskit.org/textbook/ch-states/introduction.html."
   ]
  },
  {
   "cell_type": "code",
   "execution_count": 1,
   "metadata": {},
   "outputs": [],
   "source": [
    "from may4_challenge.widgets import minicomposer  "
   ]
  },
  {
   "cell_type": "markdown",
   "metadata": {},
   "source": [
    "### 1 Qubit System"
   ]
  },
  {
   "cell_type": "code",
   "execution_count": 3,
   "metadata": {
    "scrolled": false
   },
   "outputs": [
    {
     "data": {
      "application/vnd.jupyter.widget-view+json": {
       "model_id": "aaee8cb91c56436ab75432dcd45cf884",
       "version_major": 2,
       "version_minor": 0
      },
      "text/plain": [
       "Label(value='Select a gate to add to the circuit:')"
      ]
     },
     "metadata": {},
     "output_type": "display_data"
    },
    {
     "data": {
      "application/vnd.jupyter.widget-view+json": {
       "model_id": "e3f8e29f19ba4314acad83c36fa9a0b1",
       "version_major": 2,
       "version_minor": 0
      },
      "text/plain": [
       "VBox(children=(HBox(children=(Button(description='I', style=ButtonStyle()), Button(description='X', style=Butt…"
      ]
     },
     "metadata": {},
     "output_type": "display_data"
    },
    {
     "data": {
      "application/vnd.jupyter.widget-view+json": {
       "model_id": "81db92d2be3b4862a5605ff1a49433c5",
       "version_major": 2,
       "version_minor": 0
      },
      "text/plain": [
       "VBox(children=(HTML(value='<?xml version=\"1.0\" encoding=\"utf-8\" standalone=\"no\"?>\\n<!DOCTYPE svg PUBLIC \"-//W3…"
      ]
     },
     "metadata": {},
     "output_type": "display_data"
    },
    {
     "data": {
      "application/vnd.jupyter.widget-view+json": {
       "model_id": "0f841684ec1f4d0e8623d14030d01484",
       "version_major": 2,
       "version_minor": 0
      },
      "text/plain": [
       "HTML(value='')"
      ]
     },
     "metadata": {},
     "output_type": "display_data"
    }
   ],
   "source": [
    "minicomposer(5, bloch=False, dirac=True, qsphere=True)"
   ]
  },
  {
   "cell_type": "code",
   "execution_count": 4,
   "metadata": {},
   "outputs": [
    {
     "data": {
      "application/vnd.jupyter.widget-view+json": {
       "model_id": "04719cc40f9143a5a9915a2bd3722490",
       "version_major": 2,
       "version_minor": 0
      },
      "text/plain": [
       "Label(value='Select a gate to add to the circuit:')"
      ]
     },
     "metadata": {},
     "output_type": "display_data"
    },
    {
     "data": {
      "application/vnd.jupyter.widget-view+json": {
       "model_id": "174d1c14ebab4d8d8ca996c39efa61c6",
       "version_major": 2,
       "version_minor": 0
      },
      "text/plain": [
       "VBox(children=(HBox(children=(Button(description='I', style=ButtonStyle()), Button(description='X', style=Butt…"
      ]
     },
     "metadata": {},
     "output_type": "display_data"
    },
    {
     "data": {
      "application/vnd.jupyter.widget-view+json": {
       "model_id": "b2f3bd564e8743909dbf4a54f65ad89c",
       "version_major": 2,
       "version_minor": 0
      },
      "text/plain": [
       "VBox(children=(HTML(value='<?xml version=\"1.0\" encoding=\"utf-8\" standalone=\"no\"?>\\n<!DOCTYPE svg PUBLIC \"-//W3…"
      ]
     },
     "metadata": {},
     "output_type": "display_data"
    },
    {
     "data": {
      "application/vnd.jupyter.widget-view+json": {
       "model_id": "00b15e172e794553af8acc8adb0f4ef5",
       "version_major": 2,
       "version_minor": 0
      },
      "text/plain": [
       "HTML(value='')"
      ]
     },
     "metadata": {},
     "output_type": "display_data"
    }
   ],
   "source": [
    "minicomposer(2, dirac = True, qsphere = True)"
   ]
  },
  {
   "cell_type": "code",
   "execution_count": 5,
   "metadata": {},
   "outputs": [
    {
     "data": {
      "application/vnd.jupyter.widget-view+json": {
       "model_id": "a4538030511742138e9084ea9882663c",
       "version_major": 2,
       "version_minor": 0
      },
      "text/plain": [
       "Label(value='Select a gate to add to the circuit:')"
      ]
     },
     "metadata": {},
     "output_type": "display_data"
    },
    {
     "data": {
      "application/vnd.jupyter.widget-view+json": {
       "model_id": "351d3bd7179d4acebfc8589a2bb2cde8",
       "version_major": 2,
       "version_minor": 0
      },
      "text/plain": [
       "VBox(children=(HBox(children=(Button(description='I', style=ButtonStyle()), Button(description='X', style=Butt…"
      ]
     },
     "metadata": {},
     "output_type": "display_data"
    },
    {
     "data": {
      "application/vnd.jupyter.widget-view+json": {
       "model_id": "e1095893ce4c4523a48c60c6662b2502",
       "version_major": 2,
       "version_minor": 0
      },
      "text/plain": [
       "VBox(children=(HTML(value='<?xml version=\"1.0\" encoding=\"utf-8\" standalone=\"no\"?>\\n<!DOCTYPE svg PUBLIC \"-//W3…"
      ]
     },
     "metadata": {},
     "output_type": "display_data"
    },
    {
     "data": {
      "application/vnd.jupyter.widget-view+json": {
       "model_id": "393dc42cb3ab4512b7dcbe4e129dee2e",
       "version_major": 2,
       "version_minor": 0
      },
      "text/plain": [
       "HTML(value='')"
      ]
     },
     "metadata": {},
     "output_type": "display_data"
    }
   ],
   "source": [
    "minicomposer(3, dirac=True, qsphere=True)"
   ]
  },
  {
   "cell_type": "code",
   "execution_count": null,
   "metadata": {},
   "outputs": [],
   "source": []
  },
  {
   "cell_type": "code",
   "execution_count": null,
   "metadata": {},
   "outputs": [],
   "source": []
  },
  {
   "cell_type": "code",
   "execution_count": null,
   "metadata": {},
   "outputs": [],
   "source": []
  },
  {
   "cell_type": "code",
   "execution_count": null,
   "metadata": {},
   "outputs": [],
   "source": []
  }
 ],
 "metadata": {
  "kernelspec": {
   "display_name": "Python 3",
   "language": "python",
   "name": "python3"
  },
  "language_info": {
   "codemirror_mode": {
    "name": "ipython",
    "version": 3
   },
   "file_extension": ".py",
   "mimetype": "text/x-python",
   "name": "python",
   "nbconvert_exporter": "python",
   "pygments_lexer": "ipython3",
   "version": "3.7.6"
  }
 },
 "nbformat": 4,
 "nbformat_minor": 2
}
